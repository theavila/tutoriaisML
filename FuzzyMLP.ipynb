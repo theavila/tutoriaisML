{
 "cells": [
  {
   "cell_type": "markdown",
   "metadata": {},
   "source": [
    "# Fuzzy com MLP\n",
    "\n",
    "Multilayer Perceptron com lógica Fuzzy."
   ]
  },
  {
   "cell_type": "code",
   "execution_count": 4,
   "metadata": {},
   "outputs": [],
   "source": [
    "import numpy as np\n",
    "from sklearn import datasets\n",
    "from sklearn import preprocessing\n",
    "\n",
    "import skfuzzy as fuzz\n",
    "from skfuzzy import control as ctrl\n",
    "from sklearn.neural_network import MLPRegressor\n",
    "from sklearn.model_selection import train_test_split\n",
    "from sklearn.model_selection import StratifiedShuffleSplit\n",
    "from sklearn.metrics import classification_report\n",
    "\n",
    "import matplotlib.pyplot as plt\n",
    "%matplotlib inline"
   ]
  },
  {
   "cell_type": "markdown",
   "metadata": {},
   "source": [
    "## Aplicando Fuzzy aos valores de entrada\n",
    "\n",
    "Precisamos fuzzyficar cada atributo para obter o grau de pertinencia de cada característica as classes do conjunto de dados IRIS.\n",
    "\n",
    "Para criar esse range e as faixas de pertinencia foi utilizando a transformação gaussiana.\n"
   ]
  },
  {
   "cell_type": "code",
   "execution_count": 5,
   "metadata": {},
   "outputs": [],
   "source": [
    "iris = datasets.load_iris()\n",
    "dados = iris.data"
   ]
  },
  {
   "cell_type": "markdown",
   "metadata": {},
   "source": [
    "## Normalizando as entradas"
   ]
  },
  {
   "cell_type": "code",
   "execution_count": 6,
   "metadata": {},
   "outputs": [],
   "source": [
    "preprocessar = preprocessing.MinMaxScaler()\n",
    "entrada = preprocessar.fit_transform(dados)"
   ]
  },
  {
   "cell_type": "markdown",
   "metadata": {},
   "source": [
    "## Calculando o range, média e desvio padrão de cada classe"
   ]
  },
  {
   "cell_type": "code",
   "execution_count": 22,
   "metadata": {},
   "outputs": [],
   "source": [
    "universo = np.arange(0, 1, 0.01)\n",
    "media_setosa = np.mean(entrada[0:50,:])\n",
    "desvio_setosa = np.std(entrada[0:50,:])\n",
    "media_versicolor = np.mean(entrada[50:100,:])\n",
    "desvio_versicolor = np.std(entrada[50:100,:])\n",
    "media_virginica = np.mean(entrada[100:150,:])\n",
    "desvio_virginica = np.std(entrada[100:150,:])"
   ]
  },
  {
   "cell_type": "markdown",
   "metadata": {},
   "source": [
    "## Aplicando a transformação gaussiana"
   ]
  },
  {
   "cell_type": "code",
   "execution_count": 24,
   "metadata": {
    "scrolled": true
   },
   "outputs": [
    {
     "name": "stderr",
     "output_type": "stream",
     "text": [
      "C:\\ProgramData\\Anaconda3\\lib\\site-packages\\skfuzzy\\control\\fuzzyvariable.py:122: UserWarning: Matplotlib is currently using module://ipykernel.pylab.backend_inline, which is a non-GUI backend, so cannot show the figure.\n",
      "  fig.show()\n"
     ]
    },
    {
     "data": {
      "image/png": "[encoded data removed]",
      "text/plain": [
       "<Figure size 432x288 with 1 Axes>"
      ]
     },
     "metadata": {
      "needs_background": "light"
     },
     "output_type": "display_data"
    }
   ],
   "source": [
    "fuzzy = ctrl.Antecedent(universo, 'Lógica Nebulosa')\n",
    "fuzzy['Setosa'] = fuzz.gaussmf(universo, media_setosa, desvio_setosa)\n",
    "fuzzy['Versicolor'] = fuzz.gaussmf(universo, media_versicolor, desvio_versicolor)\n",
    "fuzzy['Virginica'] = fuzz.gaussmf(universo, media_virginica, desvio_virginica)\n",
    "fuzzy.view()\n",
    "plt.show()"
   ]
  },
  {
   "cell_type": "markdown",
   "metadata": {},
   "source": [
    "## Fuzzificando as entradas\n",
    "\n",
    "Criando um funcao para passar uma amostra da base de dados e cada atributo da amostra vai virar 3 atributos (o grau de pertinecia a cada uma das 3 classes)"
   ]
  },
  {
   "cell_type": "code",
   "execution_count": 9,
   "metadata": {},
   "outputs": [],
   "source": [
    "def fuzzying(vetor):\n",
    "    retorno = []\n",
    "    for i in range(len(vetor)):\n",
    "        retorno.append(fuzz.interp_membership(universo, fuzz.gaussmf(universo, media_setosa, desvio_setosa), vetor[i]))\n",
    "        retorno.append(fuzz.interp_membership(universo, fuzz.gaussmf(universo, media_versicolor, desvio_versicolor), vetor[i]))\n",
    "        retorno.append(fuzz.interp_membership(universo, fuzz.gaussmf(universo, media_virginica, desvio_virginica), vetor[i]))\n",
    "    return np.asarray(retorno).T"
   ]
  },
  {
   "cell_type": "markdown",
   "metadata": {},
   "source": [
    "## Utilizando a função"
   ]
  },
  {
   "cell_type": "code",
   "execution_count": 10,
   "metadata": {},
   "outputs": [
    {
     "data": {
      "text/plain": [
       "array([0.99051683, 0.18656282, 0.08544104, 0.38156028, 0.77825999,\n",
       "       0.90014951, 0.95995498, 0.53004173, 0.22417374, 0.05538159,\n",
       "       0.0558928 , 0.77485862])"
      ]
     },
     "execution_count": 10,
     "metadata": {},
     "output_type": "execute_result"
    }
   ],
   "source": [
    "fuzzying([0.2, 0.56, 0.3, 0.8])"
   ]
  },
  {
   "cell_type": "markdown",
   "metadata": {},
   "source": [
    "## Utilizando MLP do scikit-learn"
   ]
  },
  {
   "cell_type": "code",
   "execution_count": 11,
   "metadata": {},
   "outputs": [],
   "source": [
    "def gerar_mlp(neuronios, taxa_aprendizado, max_iteracoes):\n",
    "    mlp = MLPRegressor(\n",
    "        solver='adam',\n",
    "        hidden_layer_sizes=(neuronios,),\n",
    "        random_state=1,\n",
    "        learning_rate='constant',\n",
    "        learning_rate_init=taxa_aprendizado,\n",
    "        max_iter=max_iteracoes,\n",
    "        activation='logistic',\n",
    "        momentum=0.1\n",
    "    )\n",
    "    return mlp"
   ]
  },
  {
   "cell_type": "markdown",
   "metadata": {},
   "source": [
    "## Tratando o cojunto de dados\n",
    "\n",
    "Fuzzyficacao das entradas para transformar 4 atributos em 12"
   ]
  },
  {
   "cell_type": "code",
   "execution_count": 12,
   "metadata": {},
   "outputs": [
    {
     "data": {
      "text/plain": [
       "array([[0.99888464, 0.24582622, 0.10815221, ..., 0.72070721, 0.01293171,\n",
       "        0.01139786],\n",
       "       [0.96155383, 0.11813537, 0.05881794, ..., 0.72070721, 0.01293171,\n",
       "        0.01139786],\n",
       "       [0.87579739, 0.04860745, 0.02968443, ..., 0.72070721, 0.01293171,\n",
       "        0.01139786],\n",
       "       ...,\n",
       "       [0.27592919, 0.56489911, 0.9783073 , ..., 0.06029081, 0.06435886,\n",
       "        0.7969984 ],\n",
       "       [0.45698576, 0.89059029, 0.82700008, ..., 0.01493339, 0.00554178,\n",
       "        0.43836686],\n",
       "       [0.66799125, 0.99364443, 0.59233276, ..., 0.13084121, 0.2145719 ,\n",
       "        0.96502527]])"
      ]
     },
     "execution_count": 12,
     "metadata": {},
     "output_type": "execute_result"
    }
   ],
   "source": [
    "entradas_fuzzy = []\n",
    "for i in range(150):\n",
    "    entradas_fuzzy.append(fuzzying(entrada[i,:]))\n",
    "\n",
    "entradas_fuzzy = np.asarray(entradas_fuzzy)\n",
    "entradas_fuzzy"
   ]
  },
  {
   "cell_type": "markdown",
   "metadata": {},
   "source": [
    "## Transformando o vetor de saida\n",
    "\n",
    "Mudando de [-1,0,1] em [0,0.5,1]"
   ]
  },
  {
   "cell_type": "code",
   "execution_count": 13,
   "metadata": {},
   "outputs": [],
   "source": [
    "saida = np.arange(150, dtype=float)\n",
    "for i in range(150):\n",
    "    if i <50:\n",
    "        saida[i] = 0\n",
    "    if 50 <= i < 100:\n",
    "        saida[i] = 0.5\n",
    "    if 100 <= i < 150:\n",
    "        saida[i] = 1\n",
    "saida = saida.reshape(150,1)"
   ]
  },
  {
   "cell_type": "markdown",
   "metadata": {},
   "source": [
    "## Criando a saída do modelo MLP\n",
    "\n",
    "Como o objetivo aqui eh que a saida da MLP seja fuzzy tambem, uma vez que teremos 1 unico neuronio de saida (dando uma resposta numerica, assim como uma regressao), precisamos de um especialista para indicar as faixas de resposta para cada classe:"
   ]
  },
  {
   "cell_type": "code",
   "execution_count": 25,
   "metadata": {},
   "outputs": [],
   "source": [
    "def obter_classe(respostas, valor_menor, valor_maior):\n",
    "    label_previsto = []\n",
    "    for i in respostas:\n",
    "        if i < valor_menor:\n",
    "            label_previsto.append('Setosa')\n",
    "        elif i >= valor_menor and i <= valor_maior:\n",
    "            label_previsto.append('Versicolor')\n",
    "        else:\n",
    "            label_previsto.append('Virginica')\n",
    "    return label_previsto"
   ]
  },
  {
   "cell_type": "markdown",
   "metadata": {},
   "source": [
    "## Função mapear as saidas\n",
    "\n",
    "Mudando a saídas de [0,0.5,1] para ['Setosa', 'Versicolor', 'Virginica']"
   ]
  },
  {
   "cell_type": "code",
   "execution_count": 15,
   "metadata": {},
   "outputs": [],
   "source": [
    "def traduz_saida(saidas):\n",
    "    resposta = []\n",
    "    for i in saidas:\n",
    "        if i == 0:\n",
    "            resposta.append('Setosa')\n",
    "        elif i == 0.5:\n",
    "            resposta.append('Versicolor')\n",
    "        else:\n",
    "            resposta.append('Virginica')\n",
    "    return resposta"
   ]
  },
  {
   "cell_type": "markdown",
   "metadata": {},
   "source": [
    "## Aplicando o MLP\n",
    "\n",
    "Utilizando uma validação cruzada de tamanho 3 e imprimindo o relatorio de desempenho de cada interação:"
   ]
  },
  {
   "cell_type": "code",
   "execution_count": 16,
   "metadata": {},
   "outputs": [
    {
     "name": "stdout",
     "output_type": "stream",
     "text": [
      "######################################################\n",
      "              precision    recall  f1-score   support\n",
      "\n",
      "      Setosa       1.00      1.00      1.00        13\n",
      "  Versicolor       0.83      0.83      0.83        12\n",
      "   Virginica       0.85      0.85      0.85        13\n",
      "\n",
      "    accuracy                           0.89        38\n",
      "   macro avg       0.89      0.89      0.89        38\n",
      "weighted avg       0.89      0.89      0.89        38\n",
      "\n",
      "######################################################\n",
      "              precision    recall  f1-score   support\n",
      "\n",
      "      Setosa       0.92      0.92      0.92        12\n",
      "  Versicolor       0.85      0.85      0.85        13\n",
      "   Virginica       0.92      0.92      0.92        13\n",
      "\n",
      "    accuracy                           0.89        38\n",
      "   macro avg       0.90      0.90      0.90        38\n",
      "weighted avg       0.89      0.89      0.89        38\n",
      "\n",
      "######################################################\n",
      "              precision    recall  f1-score   support\n",
      "\n",
      "      Setosa       0.92      0.92      0.92        12\n",
      "  Versicolor       0.86      0.92      0.89        13\n",
      "   Virginica       1.00      0.92      0.96        13\n",
      "\n",
      "    accuracy                           0.92        38\n",
      "   macro avg       0.92      0.92      0.92        38\n",
      "weighted avg       0.92      0.92      0.92        38\n",
      "\n"
     ]
    }
   ],
   "source": [
    "skf = StratifiedShuffleSplit(n_splits=3, test_size=0.25)    \n",
    "for train_idx, test_idx in skf.split(entradas_fuzzy,saida.ravel()):\n",
    "    x_treinamento = entradas_fuzzy[train_idx]\n",
    "    y_treinamento = saida[train_idx]\n",
    "    x_teste = entradas_fuzzy[test_idx]\n",
    "    y_teste = saida[test_idx]\n",
    "    mlp = gerar_mlp(20, 0.01, 100)\n",
    "    mlp.fit(x_treinamento, y_treinamento.ravel())\n",
    "    previsao = obter_classe(mlp.predict(x_teste), 0.25, 0.8)\n",
    "    print('######################################################')\n",
    "    print(classification_report(traduz_saida(y_teste), previsao))\n"
   ]
  },
  {
   "cell_type": "code",
   "execution_count": null,
   "metadata": {},
   "outputs": [],
   "source": []
  }
 ],
 "metadata": {
  "kernelspec": {
   "display_name": "Python 3",
   "language": "python",
   "name": "python3"
  },
  "language_info": {
   "codemirror_mode": {
    "name": "ipython",
    "version": 3
   },
   "file_extension": ".py",
   "mimetype": "text/x-python",
   "name": "python",
   "nbconvert_exporter": "python",
   "pygments_lexer": "ipython3",
   "version": "3.7.6"
  }
 },
 "nbformat": 4,
 "nbformat_minor": 2
}
