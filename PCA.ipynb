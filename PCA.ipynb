{
 "cells": [
  {
   "cell_type": "markdown",
   "metadata": {},
   "source": [
    "# Principal Component Analysis (PCA)"
   ]
  },
  {
   "cell_type": "code",
   "execution_count": 1,
   "metadata": {},
   "outputs": [],
   "source": [
    "from numpy import *\n",
    "from pylab import *"
   ]
  },
  {
   "cell_type": "code",
   "execution_count": 2,
   "metadata": {},
   "outputs": [],
   "source": [
    "def pca(X,reduced_dimension=None):\n",
    "\n",
    "    # Principal component Analysis\n",
    "    # Input \n",
    "    # X: Matrix of training data contained in rows\n",
    "    # reduced_dimension: Reduce dimension cardinality\n",
    "    # output: Transformation matrix  \n",
    "\n",
    "    samples,dim = X.shape    \n",
    "    \n",
    "    # zero mean unit variance normalization  \n",
    "    X = (X-X.mean(axis = 0))/(X.var(axis=0))**(1/2.0)  \n",
    "    \n",
    "    # singular value decompostion\n",
    "    U,S,V = linalg.svd(X)       \n",
    "\n",
    "    # eigenvectors of X.T X\n",
    "    if reduced_dimension:\n",
    "        V = V[:reduced_dimension]\n",
    "    return V.T"
   ]
  },
  {
   "cell_type": "code",
   "execution_count": 3,
   "metadata": {},
   "outputs": [],
   "source": [
    "# read the dataset (iris dataset in this case)                                                  \n",
    "\n",
    "f = open(\"iris.csv\",\"r\")\n",
    "\n",
    "#class of iris data\n",
    "setosa=[]\n",
    "versicolor = []\n",
    "virginicia = []\n"
   ]
  },
  {
   "cell_type": "code",
   "execution_count": 5,
   "metadata": {},
   "outputs": [],
   "source": [
    "# read data from file\n",
    "\n",
    "for data in f.readlines():\n",
    "    val = data.split(\",\")\n",
    "    iris_type = val[-1].rsplit()[0]\n",
    "    values = [double(i) for i in val[:-1]]    \n",
    "    if(iris_type == \"Iris-setosa\"):\n",
    "        setosa.append(values) \n",
    "    if(iris_type == \"Iris-versicolor\"):\n",
    "        versicolor.append(values)\n",
    "    if(iris_type == \"Iris-virginicia\"):\n",
    "        virginicia.append(values)"
   ]
  },
  {
   "cell_type": "code",
   "execution_count": 6,
   "metadata": {},
   "outputs": [],
   "source": [
    "# compute principle component projection matrix using PCA for each class\n",
    "# number 2 signifies we want our projection matrix to project into two dimension\n",
    "setosa_pc_projection_matrix = pca(array(setosa),2)\n",
    "versicolor_pc_projection_matrix =  pca(array(versicolor),2)\n",
    "virginicia_pc_projection_matrix =  pca(array(virginicia),2) \n",
    "\n",
    "# Project iris data point to lower dimension(2)\n",
    "low_dim_setosa_points = dot(array(setosa),setosa_pc_projection_matrix)\n",
    "low_dim_versicolor_points = dot(array(versicolor),versicolor_pc_projection_matrix)\n",
    "low_dim_virginicia_points = dot(array(virginicia),virginicia_pc_projection_matrix)\n"
   ]
  },
  {
   "cell_type": "code",
   "execution_count": 7,
   "metadata": {},
   "outputs": [
    {
     "data": {
      "image/png": "[encoded data removed]",
      "text/plain": [
       "<Figure size 432x288 with 1 Axes>"
      ]
     },
     "metadata": {
      "needs_background": "light"
     },
     "output_type": "display_data"
    }
   ],
   "source": [
    "# plot the data points\n",
    "p1 = plot(low_dim_setosa_points[:,0].tolist(),low_dim_setosa_points[:,1].tolist(),\"ro\", label=\"Iris Setosa\", color='green')\n",
    "p2 = plot(low_dim_versicolor_points[:,0].tolist(),low_dim_versicolor_points[:,1].tolist(),\"r*\",label=\"Iris versicolor\", color='red')\n",
    "p3 = plot(virginicia_pc_projection_matrix[:,0].tolist(),virginicia_pc_projection_matrix[:,1].tolist(),\"r^\",label=\"Iris virginicia\", color='blue')\n",
    "\n",
    "title(\"Redução de Dimensionalidade com PCA\")\n",
    "xlabel(\"X1\")\n",
    "ylabel(\"X2\") \n",
    "legend(loc = \"lower right\")\n",
    "show()\n"
   ]
  },
  {
   "cell_type": "code",
   "execution_count": null,
   "metadata": {},
   "outputs": [],
   "source": []
  }
 ],
 "metadata": {
  "kernelspec": {
   "display_name": "Python 3",
   "language": "python",
   "name": "python3"
  },
  "language_info": {
   "codemirror_mode": {
    "name": "ipython",
    "version": 3
   },
   "file_extension": ".py",
   "mimetype": "text/x-python",
   "name": "python",
   "nbconvert_exporter": "python",
   "pygments_lexer": "ipython3",
   "version": "3.7.6"
  }
 },
 "nbformat": 4,
 "nbformat_minor": 4
}
